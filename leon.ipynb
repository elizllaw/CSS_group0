{
 "cells": [
  {
   "cell_type": "code",
   "execution_count": 17,
   "metadata": {},
   "outputs": [],
   "source": [
    "import numpy as np\n",
    "import matplotlib.pyplot as plt\n",
    "import powerlaw\n",
    "from collections import defaultdict\n",
    "import pandas as pd\n",
    "\n",
    "def bak_sneppen_1D(n_iterations, skip_iterations, n_species, threshold=0.65, local_segment=[0,0], animate=False):\n",
    "    # Initialize the system\n",
    "    fitness = np.random.rand(n_species)\n",
    "    # threshold = 0.65\n",
    "    gap_function_value = 0\n",
    "    min_fitness = np.zeros(n_iterations - skip_iterations)\n",
    "    fitness_history = []\n",
    "    avalanche_sizes_local = []\n",
    "    avalanche_sizes_global = []\n",
    "    avalanche_activity_local = []\n",
    "    avalanche_activity_global = []\n",
    "    avalanche = False\n",
    "    avalanche_size_local = 0\n",
    "    avalanche_size_global = 0\n",
    "    animating = True\n",
    "    animation_list = []\n",
    "\n",
    "    for i in range(n_iterations):\n",
    "        # species with minimum fitness value\n",
    "        min_index = np.argmin(fitness)\n",
    "\n",
    "        # assign a new random fitness value to the selected species\n",
    "        fitness[min_index] = np.random.rand()\n",
    "\n",
    "        # check neighbors and update their fitness if below the threshold\n",
    "        \n",
    "        fitness[min_index - 1] = np.random.rand()\n",
    "        \n",
    "        if min_index < n_species - 1:\n",
    "            fitness[min_index + 1] = np.random.rand()\n",
    "        # periodic boundary\n",
    "        elif min_index == n_species -1:\n",
    "            fitness[0] = np.random.rand()\n",
    "\n",
    "        min_fitness_value = np.min(fitness)\n",
    "        # if min_fitness_value > gap_function_value:\n",
    "        #     gap_function_value = min_fitness_value\n",
    "        #     # print(f'{gap_function_value}, iteration: {i}')\n",
    "        #     threshold = gap_function_value - 0.01\n",
    "        \n",
    "        # skip iterations to start at the critical state\n",
    "        if i >= skip_iterations:\n",
    "            fitness_history.append(fitness)\n",
    "            \n",
    "\n",
    "            # save minimum fitness for each iteration\n",
    "            min_fitness[i - skip_iterations] = min_fitness_value\n",
    "\n",
    "            # if avalanche in progress\n",
    "            if min_fitness_value < threshold and avalanche == True:\n",
    "                # seperate counter for local activity\n",
    "                if min_index >= local_segment[0] and min_index < local_segment[1]:\n",
    "                    avalanche_size_local += 1\n",
    "                    avalanche_activity_local.append(i-skip_iterations)\n",
    "\n",
    "                avalanche_size_global += 1\n",
    "                avalanche_activity_global.append(i-skip_iterations)\n",
    "\n",
    "                # add frame to animation\n",
    "                if animating == True and animate == True:\n",
    "                    animation_list.append(list(fitness))\n",
    "\n",
    "\n",
    "            # start of new avalanche\n",
    "            if min_fitness_value < threshold and avalanche == False:\n",
    "                # animate avalanche\n",
    "                if animating == True and animate == True:\n",
    "                    animation_list = []\n",
    "                    animation_list.append(list(fitness))\n",
    "                avalanche = True\n",
    "\n",
    "            # end of an avalanche\n",
    "            if min_fitness_value >= threshold and avalanche == True:\n",
    "\n",
    "                avalanche_sizes_local.append(avalanche_size_local)\n",
    "                avalanche_sizes_global.append(avalanche_size_global)\n",
    "                avalanche_size_local = 0\n",
    "                avalanche_size_global = 0\n",
    "                avalanche = False\n",
    "\n",
    "                # turn off animation only with a big avalanche\n",
    "                if len(animation_list) > 50 and len(animation_list) < 1001 and animating == True and animate == True:\n",
    "                    animating = False\n",
    "                    \n",
    "\n",
    "\n",
    "    return min_fitness, fitness_history, avalanche_sizes_global, avalanche_sizes_local, avalanche_activity_global, avalanche_activity_local, animation_list\n",
    "\n"
   ]
  },
  {
   "cell_type": "code",
   "execution_count": 60,
   "metadata": {},
   "outputs": [
    {
     "name": "stdout",
     "output_type": "stream",
     "text": [
      "1, 0\r"
     ]
    }
   ],
   "source": [
    "# Run the Bak-Sneppen simulation\n",
    "n_iterations = 10000000\n",
    "skip_iterations = 200000\n",
    "local_segment = [10,20]\n",
    "n_species = 1000\n",
    "avalanche_sizes_local = [0,0]\n",
    "animation_list = []\n",
    "threshold = 0.65\n",
    "\n",
    "counter = 0\n",
    "while sum(x != 0 for x in avalanche_sizes_local) < 1:\n",
    "    counter += 1\n",
    "    print(f'{counter}, {sum(x != 0 for x in avalanche_sizes_local)}', end='\\r')\n",
    "    min_fitness, fitness_history, avalanche_sizes_global, avalanche_sizes_local, avalanche_activity_global, avalanche_activity_local, animation_list = bak_sneppen_1D(n_iterations, skip_iterations, n_species, threshold, local_segment)\n",
    "\n"
   ]
  },
  {
   "cell_type": "code",
   "execution_count": 61,
   "metadata": {},
   "outputs": [
    {
     "data": {
      "image/png": "[encoded data removed]",
      "text/plain": [
       "<Figure size 432x288 with 1 Axes>"
      ]
     },
     "metadata": {
      "needs_background": "light"
     },
     "output_type": "display_data"
    }
   ],
   "source": [
    "import matplotlib.animation as animation\n",
    "\n",
    "\n",
    "# Sample x and y lists\n",
    "species_locations = [[x for x in range(0, n_species)]] * len(animation_list)\n",
    "\n",
    "# Set the frames per second (fps)\n",
    "fps = 5\n",
    "\n",
    "# Create a figure and axis\n",
    "fig, ax = plt.subplots()\n",
    "\n",
    "# Create an empty plot\n",
    "points, = ax.plot([], [], 'bo')\n",
    "line, = ax.plot([], [], 'r--')  # Create a line plot for the threshold\n",
    "\n",
    "# Set the axes limits\n",
    "ax.set_xlim(0, n_species)\n",
    "ax.set_ylim(0, 1)\n",
    "\n",
    "# Set the threshold value\n",
    "threshold = 0.65\n",
    "\n",
    "# Function to update the plot for each frame\n",
    "def update(frame):\n",
    "    # Get the x and y values for the current frame\n",
    "    y = animation_list[frame]\n",
    "    x = species_locations[frame]\n",
    "\n",
    "    # Update the data of the plot\n",
    "    points.set_data(x, y)\n",
    "\n",
    "    # Update the threshold line\n",
    "    line.set_data([0, n_species], [threshold, threshold])\n",
    "\n",
    "    return points, line\n",
    "\n",
    "# Create the animation\n",
    "ani = animation.FuncAnimation(fig, update, frames=len(animation_list), interval=1000/fps)\n",
    "\n",
    "# Save the animation as a GIF file\n",
    "ani.save('animation.gif', writer='pillow')\n",
    "\n",
    "# Display the animation\n",
    "plt.show()"
   ]
  },
  {
   "cell_type": "code",
   "execution_count": 62,
   "metadata": {},
   "outputs": [
    {
     "name": "stdout",
     "output_type": "stream",
     "text": [
      "75\n"
     ]
    },
    {
     "data": {
      "image/png": "[encoded data removed]",
      "text/plain": [
       "<Figure size 432x288 with 1 Axes>"
      ]
     },
     "metadata": {
      "needs_background": "light"
     },
     "output_type": "display_data"
    }
   ],
   "source": [
    "print(sum(x != 0 for x in avalanche_sizes_local))\n",
    "plt.boxplot(avalanche_sizes_local)\n",
    "plt.show()"
   ]
  },
  {
   "attachments": {},
   "cell_type": "markdown",
   "metadata": {},
   "source": [
    "Local avalanche activity"
   ]
  },
  {
   "cell_type": "code",
   "execution_count": 63,
   "metadata": {},
   "outputs": [
    {
     "data": {
      "image/png": "[encoded data removed]",
      "text/plain": [
       "<Figure size 432x288 with 1 Axes>"
      ]
     },
     "metadata": {
      "needs_background": "light"
     },
     "output_type": "display_data"
    }
   ],
   "source": [
    "# plot avalanche activity in time\n",
    "plt.hist(avalanche_activity_local, bins=100)\n",
    "plt.xlim(0,n_iterations-skip_iterations)\n",
    "plt.xlabel('Time')\n",
    "plt.ylabel('Local activity')\n",
    "plt.show()"
   ]
  },
  {
   "attachments": {},
   "cell_type": "markdown",
   "metadata": {},
   "source": [
    "Avalanche size distribution"
   ]
  },
  {
   "cell_type": "code",
   "execution_count": 73,
   "metadata": {},
   "outputs": [
    {
     "data": {
      "image/png": "[encoded data removed]",
      "text/plain": [
       "<Figure size 432x288 with 1 Axes>"
      ]
     },
     "metadata": {
      "needs_background": "light"
     },
     "output_type": "display_data"
    },
    {
     "data": {
      "image/png": "[encoded data removed]",
      "text/plain": [
       "<Figure size 432x288 with 1 Axes>"
      ]
     },
     "metadata": {
      "needs_background": "light"
     },
     "output_type": "display_data"
    }
   ],
   "source": [
    "bin_size = 10\n",
    "\n",
    "# bins of avalanche sizes\n",
    "bins = [x for x in np.arange(0, np.max(avalanche_sizes_global), bin_size)]\n",
    "all_bins = [x for x in np.arange(bin_size/2, np.max(avalanche_sizes_global) - bin_size, bin_size)]\n",
    "avalanche_size_distribution, _ = np.histogram(avalanche_sizes_global, bins)\n",
    "\n",
    "\n",
    "\n",
    "# remove bins were value is zero\n",
    "avalanche_size_distribution_plot = []\n",
    "bins_plot = []\n",
    "for i in range(len(avalanche_size_distribution)):\n",
    "    if avalanche_size_distribution[i] != 0:\n",
    "        avalanche_size_distribution_plot.append(avalanche_size_distribution[i])\n",
    "        bins_plot.append(all_bins[i])\n",
    "\n",
    "\n",
    "\n",
    "# print(avalanche_size_distribution_plot)\n",
    "# print(bins_plot)\n",
    "# print(len(avalanche_sizes_global))\n",
    "\n",
    "\n",
    "plt.scatter(bins_plot, avalanche_size_distribution_plot, s=5)\n",
    "# plt.hist(avalanche_sizes_global, bins=100)\n",
    "plt.xlabel('Avalanche size (S)')\n",
    "plt.ylabel('Avalanche frequency')\n",
    "plt.xscale('log')\n",
    "plt.yscale('log')\n",
    "plt.show()\n",
    "\n",
    "# bins of avalanche sizes\n",
    "bins = [x for x in np.arange(0, np.max(avalanche_sizes_global), bin_size)]\n",
    "all_bins = [x for x in np.arange(bin_size/2, np.max(avalanche_sizes_global) - bin_size, bin_size)]\n",
    "avalanche_size_distribution, _ = np.histogram(avalanche_sizes_global, bins)\n",
    "\n",
    "# normalize (frequency => probability)\n",
    "total_avalanches = len(avalanche_sizes_global)\n",
    "avalanche_distribution = []\n",
    "for avalanche in avalanche_size_distribution:\n",
    "    avalanche_distribution.append(avalanche/total_avalanches)\n",
    "\n",
    "\n",
    "# remove bins were value is zero\n",
    "avalanche_size_distribution_plot = []\n",
    "bins_plot = []\n",
    "for i in range(len(avalanche_distribution)):\n",
    "    if avalanche_distribution[i] != 0:\n",
    "        avalanche_size_distribution_plot.append(avalanche_distribution[i])\n",
    "        bins_plot.append(all_bins[i])\n",
    "\n",
    "\n",
    "\n",
    "# print(avalanche_size_distribution_plot)\n",
    "# print(bins_plot)\n",
    "# print(len(avalanche_sizes_global))\n",
    "\n",
    "\n",
    "plt.scatter(bins_plot, avalanche_size_distribution_plot, s=5)\n",
    "# plt.hist(avalanche_sizes_global, bins=100)\n",
    "plt.xlabel('Avalanche size (S)')\n",
    "plt.ylabel('Distribution P(S)')\n",
    "plt.xscale('log')\n",
    "plt.yscale('log')\n",
    "plt.show()\n",
    "\n",
    "# # mean avalanche size for each avalance size probability\n",
    "# avalanche_size_bins = bins_plot\n",
    "# avalanche_size_distribution_plot = avalanche_size_distribution_plot\n",
    "\n",
    "# data_dict = defaultdict(list)\n",
    "\n",
    "# for x, y in zip(avalanche_size_bins, avalanche_size_distribution_plot):\n",
    "#     data_dict[y].append(x)\n",
    "\n",
    "# mean_size_distribution = []\n",
    "# mean_avalanche_sizes = []\n",
    "\n",
    "# for y, x_list in data_dict.items():\n",
    "#     mean_size_distribution.append(y)\n",
    "#     mean_x = sum(x_list) / len(x_list)\n",
    "#     mean_avalanche_sizes.append(mean_x)\n",
    "\n",
    "\n",
    "# print('Mean of avalanche sizes for each avalanche size probability:')\n",
    "# plt.scatter(mean_avalanche_sizes, mean_size_distribution, s=5)\n",
    "# # plt.hist(avalanche_sizes_global, bins=100)\n",
    "# plt.xlabel('Avalanche size (S)')\n",
    "# plt.ylabel('Distribution P(S)')\n",
    "# plt.xscale('log')\n",
    "# plt.yscale('log')\n",
    "# plt.show()"
   ]
  },
  {
   "cell_type": "code",
   "execution_count": 18,
   "metadata": {},
   "outputs": [
    {
     "ename": "KeyboardInterrupt",
     "evalue": "",
     "output_type": "error",
     "traceback": [
      "\u001b[1;31m---------------------------------------------------------------------------\u001b[0m",
      "\u001b[1;31mKeyboardInterrupt\u001b[0m                         Traceback (most recent call last)",
      "\u001b[1;32m~\\AppData\\Local\\Temp/ipykernel_1680/3072228245.py\u001b[0m in \u001b[0;36m<module>\u001b[1;34m\u001b[0m\n\u001b[0;32m      8\u001b[0m \u001b[1;33m\u001b[0m\u001b[0m\n\u001b[0;32m      9\u001b[0m \u001b[1;32mfor\u001b[0m \u001b[0mn_species\u001b[0m \u001b[1;32min\u001b[0m \u001b[0msystem_sizes\u001b[0m\u001b[1;33m:\u001b[0m\u001b[1;33m\u001b[0m\u001b[1;33m\u001b[0m\u001b[0m\n\u001b[1;32m---> 10\u001b[1;33m     \u001b[0mmin_fitness\u001b[0m\u001b[1;33m,\u001b[0m \u001b[0mfitness_history\u001b[0m\u001b[1;33m,\u001b[0m \u001b[0mavalanche_sizes_global\u001b[0m\u001b[1;33m,\u001b[0m \u001b[0mavalanche_sizes_local\u001b[0m\u001b[1;33m,\u001b[0m \u001b[0mavalanche_activity_global\u001b[0m\u001b[1;33m,\u001b[0m \u001b[0mavalanche_activity_local\u001b[0m\u001b[1;33m,\u001b[0m \u001b[0m_\u001b[0m \u001b[1;33m=\u001b[0m \u001b[0mbak_sneppen_1D\u001b[0m\u001b[1;33m(\u001b[0m\u001b[0mn_iterations\u001b[0m\u001b[1;33m,\u001b[0m \u001b[0mskip_iterations\u001b[0m\u001b[1;33m,\u001b[0m \u001b[0mn_species\u001b[0m\u001b[1;33m,\u001b[0m \u001b[0mthreshold\u001b[0m\u001b[1;33m,\u001b[0m \u001b[0mlocal_segment\u001b[0m\u001b[1;33m)\u001b[0m\u001b[1;33m\u001b[0m\u001b[1;33m\u001b[0m\u001b[0m\n\u001b[0m\u001b[0;32m     11\u001b[0m     \u001b[0mavalanche_sizes_list\u001b[0m\u001b[1;33m.\u001b[0m\u001b[0mappend\u001b[0m\u001b[1;33m(\u001b[0m\u001b[0mavalanche_sizes_global\u001b[0m\u001b[1;33m)\u001b[0m\u001b[1;33m\u001b[0m\u001b[1;33m\u001b[0m\u001b[0m\n",
      "\u001b[1;32m~\\AppData\\Local\\Temp/ipykernel_1680/4245567155.py\u001b[0m in \u001b[0;36mbak_sneppen_1D\u001b[1;34m(n_iterations, skip_iterations, n_species, threshold, local_segment, animate)\u001b[0m\n\u001b[0;32m     24\u001b[0m     \u001b[1;32mfor\u001b[0m \u001b[0mi\u001b[0m \u001b[1;32min\u001b[0m \u001b[0mrange\u001b[0m\u001b[1;33m(\u001b[0m\u001b[0mn_iterations\u001b[0m\u001b[1;33m)\u001b[0m\u001b[1;33m:\u001b[0m\u001b[1;33m\u001b[0m\u001b[1;33m\u001b[0m\u001b[0m\n\u001b[0;32m     25\u001b[0m         \u001b[1;31m# species with minimum fitness value\u001b[0m\u001b[1;33m\u001b[0m\u001b[1;33m\u001b[0m\u001b[0m\n\u001b[1;32m---> 26\u001b[1;33m         \u001b[0mmin_index\u001b[0m \u001b[1;33m=\u001b[0m \u001b[0mnp\u001b[0m\u001b[1;33m.\u001b[0m\u001b[0margmin\u001b[0m\u001b[1;33m(\u001b[0m\u001b[0mfitness\u001b[0m\u001b[1;33m)\u001b[0m\u001b[1;33m\u001b[0m\u001b[1;33m\u001b[0m\u001b[0m\n\u001b[0m\u001b[0;32m     27\u001b[0m \u001b[1;33m\u001b[0m\u001b[0m\n\u001b[0;32m     28\u001b[0m         \u001b[1;31m# assign a new random fitness value to the selected species\u001b[0m\u001b[1;33m\u001b[0m\u001b[1;33m\u001b[0m\u001b[0m\n",
      "\u001b[1;32mc:\\Users\\Leon\\anaconda3\\lib\\site-packages\\numpy\\core\\overrides.py\u001b[0m in \u001b[0;36margmin\u001b[1;34m(*args, **kwargs)\u001b[0m\n",
      "\u001b[1;32mc:\\Users\\Leon\\anaconda3\\lib\\site-packages\\numpy\\core\\fromnumeric.py\u001b[0m in \u001b[0;36margmin\u001b[1;34m(a, axis, out, keepdims)\u001b[0m\n\u001b[0;32m   1310\u001b[0m     \"\"\"\n\u001b[0;32m   1311\u001b[0m     \u001b[0mkwds\u001b[0m \u001b[1;33m=\u001b[0m \u001b[1;33m{\u001b[0m\u001b[1;34m'keepdims'\u001b[0m\u001b[1;33m:\u001b[0m \u001b[0mkeepdims\u001b[0m\u001b[1;33m}\u001b[0m \u001b[1;32mif\u001b[0m \u001b[0mkeepdims\u001b[0m \u001b[1;32mis\u001b[0m \u001b[1;32mnot\u001b[0m \u001b[0mnp\u001b[0m\u001b[1;33m.\u001b[0m\u001b[0m_NoValue\u001b[0m \u001b[1;32melse\u001b[0m \u001b[1;33m{\u001b[0m\u001b[1;33m}\u001b[0m\u001b[1;33m\u001b[0m\u001b[1;33m\u001b[0m\u001b[0m\n\u001b[1;32m-> 1312\u001b[1;33m     \u001b[1;32mreturn\u001b[0m \u001b[0m_wrapfunc\u001b[0m\u001b[1;33m(\u001b[0m\u001b[0ma\u001b[0m\u001b[1;33m,\u001b[0m \u001b[1;34m'argmin'\u001b[0m\u001b[1;33m,\u001b[0m \u001b[0maxis\u001b[0m\u001b[1;33m=\u001b[0m\u001b[0maxis\u001b[0m\u001b[1;33m,\u001b[0m \u001b[0mout\u001b[0m\u001b[1;33m=\u001b[0m\u001b[0mout\u001b[0m\u001b[1;33m,\u001b[0m \u001b[1;33m**\u001b[0m\u001b[0mkwds\u001b[0m\u001b[1;33m)\u001b[0m\u001b[1;33m\u001b[0m\u001b[1;33m\u001b[0m\u001b[0m\n\u001b[0m\u001b[0;32m   1313\u001b[0m \u001b[1;33m\u001b[0m\u001b[0m\n\u001b[0;32m   1314\u001b[0m \u001b[1;33m\u001b[0m\u001b[0m\n",
      "\u001b[1;32mc:\\Users\\Leon\\anaconda3\\lib\\site-packages\\numpy\\core\\fromnumeric.py\u001b[0m in \u001b[0;36m_wrapfunc\u001b[1;34m(obj, method, *args, **kwds)\u001b[0m\n\u001b[0;32m     55\u001b[0m \u001b[1;33m\u001b[0m\u001b[0m\n\u001b[0;32m     56\u001b[0m     \u001b[1;32mtry\u001b[0m\u001b[1;33m:\u001b[0m\u001b[1;33m\u001b[0m\u001b[1;33m\u001b[0m\u001b[0m\n\u001b[1;32m---> 57\u001b[1;33m         \u001b[1;32mreturn\u001b[0m \u001b[0mbound\u001b[0m\u001b[1;33m(\u001b[0m\u001b[1;33m*\u001b[0m\u001b[0margs\u001b[0m\u001b[1;33m,\u001b[0m \u001b[1;33m**\u001b[0m\u001b[0mkwds\u001b[0m\u001b[1;33m)\u001b[0m\u001b[1;33m\u001b[0m\u001b[1;33m\u001b[0m\u001b[0m\n\u001b[0m\u001b[0;32m     58\u001b[0m     \u001b[1;32mexcept\u001b[0m \u001b[0mTypeError\u001b[0m\u001b[1;33m:\u001b[0m\u001b[1;33m\u001b[0m\u001b[1;33m\u001b[0m\u001b[0m\n\u001b[0;32m     59\u001b[0m         \u001b[1;31m# A TypeError occurs if the object does have such a method in its\u001b[0m\u001b[1;33m\u001b[0m\u001b[1;33m\u001b[0m\u001b[0m\n",
      "\u001b[1;31mKeyboardInterrupt\u001b[0m: "
     ]
    }
   ],
   "source": [
    "# run simulation for different system sizes to compare\n",
    "system_sizes = [32, 128, 512, 2048]\n",
    "n_iterations = 10000000\n",
    "skip_iterations = 200000\n",
    "threshold = 0.6\n",
    "\n",
    "avalanche_sizes_list = []\n",
    "\n",
    "for n_species in system_sizes:\n",
    "    min_fitness, fitness_history, avalanche_sizes_global, avalanche_sizes_local, avalanche_activity_global, avalanche_activity_local, _ = bak_sneppen_1D(n_iterations, skip_iterations, n_species, threshold, local_segment)\n",
    "    avalanche_sizes_list.append(avalanche_sizes_global)\n"
   ]
  },
  {
   "cell_type": "code",
   "execution_count": 25,
   "metadata": {},
   "outputs": [
    {
     "ename": "IndexError",
     "evalue": "list index out of range",
     "output_type": "error",
     "traceback": [
      "\u001b[1;31m---------------------------------------------------------------------------\u001b[0m",
      "\u001b[1;31mIndexError\u001b[0m                                Traceback (most recent call last)",
      "\u001b[1;32m~\\AppData\\Local\\Temp/ipykernel_1680/3467135960.py\u001b[0m in \u001b[0;36m<module>\u001b[1;34m\u001b[0m\n\u001b[0;32m     57\u001b[0m \u001b[1;33m\u001b[0m\u001b[0m\n\u001b[0;32m     58\u001b[0m \u001b[1;33m\u001b[0m\u001b[0m\n\u001b[1;32m---> 59\u001b[1;33m     \u001b[0mplt\u001b[0m\u001b[1;33m.\u001b[0m\u001b[0mscatter\u001b[0m\u001b[1;33m(\u001b[0m\u001b[0mbins_plot\u001b[0m\u001b[1;33m,\u001b[0m \u001b[0mavalanche_size_distribution_plot\u001b[0m\u001b[1;33m,\u001b[0m \u001b[0mlabel\u001b[0m\u001b[1;33m=\u001b[0m\u001b[1;34mf'N = {system_sizes[i]}'\u001b[0m\u001b[1;33m,\u001b[0m \u001b[0ms\u001b[0m\u001b[1;33m=\u001b[0m\u001b[1;36m1\u001b[0m\u001b[1;33m)\u001b[0m\u001b[1;33m\u001b[0m\u001b[1;33m\u001b[0m\u001b[0m\n\u001b[0m\u001b[0;32m     60\u001b[0m     \u001b[0mplt\u001b[0m\u001b[1;33m.\u001b[0m\u001b[0mxlabel\u001b[0m\u001b[1;33m(\u001b[0m\u001b[1;34m'Avalanche size (S)'\u001b[0m\u001b[1;33m)\u001b[0m\u001b[1;33m\u001b[0m\u001b[1;33m\u001b[0m\u001b[0m\n\u001b[0;32m     61\u001b[0m     \u001b[0mplt\u001b[0m\u001b[1;33m.\u001b[0m\u001b[0mylabel\u001b[0m\u001b[1;33m(\u001b[0m\u001b[1;34m'Distribution P(S)'\u001b[0m\u001b[1;33m)\u001b[0m\u001b[1;33m\u001b[0m\u001b[1;33m\u001b[0m\u001b[0m\n",
      "\u001b[1;31mIndexError\u001b[0m: list index out of range"
     ]
    },
    {
     "data": {
      "image/png": "[encoded data removed]",
      "text/plain": [
       "<Figure size 432x288 with 1 Axes>"
      ]
     },
     "metadata": {
      "needs_background": "light"
     },
     "output_type": "display_data"
    }
   ],
   "source": [
    "# system_sizes = [32, 128, 512, 2048]\n",
    "\n",
    "# for i in range(len(avalanche_sizes_list)):\n",
    "#     # bins of avalanche sizes\n",
    "#     bins = [x for x in np.arange(0, np.max(avalanche_sizes_list[i]), bin_size)]\n",
    "#     all_bins = [x for x in np.arange(bin_size/2, np.max(avalanche_sizes_list[i]) - bin_size, bin_size)]\n",
    "#     avalanche_size_distribution, _ = np.histogram(avalanche_sizes_list[i], bins)\n",
    "    \n",
    "\n",
    "#     # remove bins were value is zero\n",
    "#     avalanche_size_distribution_plot = []\n",
    "#     bins_plot = []\n",
    "#     for j in range(len(avalanche_size_distribution)):\n",
    "#         if avalanche_size_distribution[j] != 0:\n",
    "#             avalanche_size_distribution_plot.append(avalanche_size_distribution[j])\n",
    "#             bins_plot.append(all_bins[j])\n",
    "\n",
    "\n",
    "#     # print(avalanche_size_distribution_plot)\n",
    "#     # print(bins_plot)\n",
    "#     # print(len(avalanche_sizes_global))\n",
    "    \n",
    "\n",
    "#     plt.scatter(bins_plot, avalanche_size_distribution_plot, label=f'N = {system_sizes[i]}', s=1)\n",
    "#     plt.xlabel('Avalanche size (S)')\n",
    "#     plt.ylabel('Distribution P(S)')\n",
    "#     plt.xscale('log')\n",
    "#     plt.yscale('log')\n",
    "# plt.legend()\n",
    "# plt.show()\n",
    "\n",
    "# normalized version\n",
    "for i in range(len(avalanche_sizes_list)):\n",
    "    # bins of avalanche sizes\n",
    "    bins = [x for x in np.arange(0, np.max(avalanche_sizes_list[i]), bin_size)]\n",
    "    all_bins = [x for x in np.arange(bin_size/2, np.max(avalanche_sizes_list[i]) - bin_size, bin_size)]\n",
    "    avalanche_size_distribution, _ = np.histogram(avalanche_sizes_list[i], bins)\n",
    "    \n",
    "    # normalize (frequency => probability)\n",
    "    total_avalanches = len(avalanche_sizes_list[i])\n",
    "    avalanche_distribution = []\n",
    "    for avalanche in avalanche_size_distribution:\n",
    "        avalanche_distribution.append(avalanche/total_avalanches)\n",
    "\n",
    "    # remove bins were value is zero\n",
    "    avalanche_size_distribution_plot = []\n",
    "    bins_plot = []\n",
    "    for j in range(len(avalanche_distribution)):\n",
    "        if avalanche_distribution[j] != 0:\n",
    "            avalanche_size_distribution_plot.append(avalanche_distribution[j])\n",
    "            bins_plot.append(all_bins[j])\n",
    "\n",
    "\n",
    "    # print(avalanche_size_distribution_plot)\n",
    "    # print(bins_plot)\n",
    "    # print(len(avalanche_sizes_global))\n",
    "    \n",
    "\n",
    "    plt.scatter(bins_plot, avalanche_size_distribution_plot, label=f'N = {system_sizes[i]}', s=1)\n",
    "    plt.xlabel('Avalanche size (S)')\n",
    "    plt.ylabel('Distribution P(S)')\n",
    "    plt.xscale('log')\n",
    "    plt.yscale('log')\n",
    "plt.legend()\n",
    "plt.show()\n",
    "\n"
   ]
  },
  {
   "attachments": {},
   "cell_type": "markdown",
   "metadata": {},
   "source": [
    "average to make plot more line like"
   ]
  },
  {
   "cell_type": "code",
   "execution_count": null,
   "metadata": {},
   "outputs": [],
   "source": [
    "system_sizes = [32, 128, 512, 2048]\n",
    "\n",
    "for i in range(len(avalanche_sizes_list)):\n",
    "    # bins of avalanche sizes\n",
    "    bins = [x for x in np.arange(0,np.max(avalanche_sizes_list[i]),10)]\n",
    "    all_bins = [x for x in np.arange(5,np.max(avalanche_sizes_list[i]) - 10,10)]\n",
    "    avalanche_size_distribution, _ = np.histogram(avalanche_sizes_list[i], bins)\n",
    "\n",
    "    # remove bins were value is zero\n",
    "    avalanche_size_distribution_plot = []\n",
    "    avalanche_size_bins = []\n",
    "    for j in range(len(avalanche_size_distribution)):\n",
    "        if avalanche_size_distribution[j] != 0:\n",
    "            avalanche_size_distribution_plot.append(avalanche_size_distribution[j])\n",
    "            avalanche_size_bins.append(all_bins[j])\n",
    "\n",
    "\n",
    "    data_dict = defaultdict(list)\n",
    "\n",
    "    for x, y in zip(avalanche_size_bins, avalanche_size_distribution_plot):\n",
    "        data_dict[y].append(x)\n",
    "\n",
    "    mean_size_distribution = []\n",
    "    mean_avalanche_sizes = []\n",
    "\n",
    "    for y, x_list in data_dict.items():\n",
    "        mean_size_distribution.append(y)\n",
    "        mean_x = sum(x_list) / len(x_list)\n",
    "        mean_avalanche_sizes.append(mean_x)\n",
    "    \n",
    "\n",
    "    plt.scatter(mean_avalanche_sizes, mean_size_distribution, label=f'N = {system_sizes[i]}', s=5)\n",
    "    # plt.plot(mean_avalanche_sizes, mean_size_distribution, label=f'N = {system_sizes[i]}')\n",
    "    plt.xlabel('Avalanche size (S)')\n",
    "    plt.ylabel('Distribution P(S)')\n",
    "    plt.xscale('log')\n",
    "    plt.yscale('log')\n",
    "plt.legend()\n",
    "plt.show()"
   ]
  },
  {
   "attachments": {},
   "cell_type": "markdown",
   "metadata": {},
   "source": [
    "Threshold variation"
   ]
  },
  {
   "cell_type": "code",
   "execution_count": 24,
   "metadata": {},
   "outputs": [
    {
     "name": "stdout",
     "output_type": "stream",
     "text": [
      "[0, 21, 24, 15, 7, 21, 1, 19, 3, 13]\n",
      "[5, 6, 1, 21, 11, 1, 0, 86, 9, 248]\n",
      "[216, 74, 179, 1, 56, 5, 19, 0, 105, 4]\n",
      "[18, 1, 2, 30, 274, 209, 106, 63, 47, 123]\n",
      "[601, 303, 85, 324, 140, 1586, 700, 1325, 2118, 5579]\n"
     ]
    }
   ],
   "source": [
    "# run simulation for different system sizes to compare\n",
    "thresholds = [x for x in np.arange(0.5, 0.65, 0.03)]\n",
    "system_size = 512\n",
    "n_iterations = 1000000\n",
    "skip_iterations = 200000\n",
    "local_segment = [0,1]\n",
    "\n",
    "count = 0\n",
    "avalanche_sizes_list = []\n",
    "\n",
    "for threshold in thresholds:\n",
    "    min_fitness, fitness_history, avalanche_sizes_global, avalanche_sizes_local, avalanche_activity_global, avalanche_activity_local, _ = bak_sneppen_1D(n_iterations, skip_iterations, system_size, threshold, local_segment)\n",
    "    avalanche_sizes_list.append(list(avalanche_sizes_global))\n",
    "\n",
    "        "
   ]
  },
  {
   "cell_type": "code",
   "execution_count": 28,
   "metadata": {},
   "outputs": [
    {
     "data": {
      "image/png": "[encoded data removed]",
      "text/plain": [
       "<Figure size 432x288 with 1 Axes>"
      ]
     },
     "metadata": {
      "needs_background": "light"
     },
     "output_type": "display_data"
    }
   ],
   "source": [
    "thresholds = [x for x in np.arange(0.50, 0.65, 0.03)]\n",
    "\n",
    "# for i in range(len(avalanche_sizes_list)):\n",
    "#     # bins of avalanche sizes\n",
    "#     bins = [x for x in np.arange(0, np.max(avalanche_sizes_list[i]), bin_size)]\n",
    "#     all_bins = [x for x in np.arange(bin_size/2, np.max(avalanche_sizes_list[i]) - bin_size, bin_size)]\n",
    "#     avalanche_size_distribution, _ = np.histogram(avalanche_sizes_list[i], bins)\n",
    "    \n",
    "\n",
    "#     # remove bins were value is zero\n",
    "#     avalanche_size_distribution_plot = []\n",
    "#     bins_plot = []\n",
    "#     for j in range(len(avalanche_size_distribution)):\n",
    "#         if avalanche_size_distribution[j] != 0:\n",
    "#             avalanche_size_distribution_plot.append(avalanche_size_distribution[j])\n",
    "#             bins_plot.append(all_bins[j])\n",
    "\n",
    "\n",
    "#     # print(avalanche_size_distribution_plot)\n",
    "#     # print(bins_plot)\n",
    "#     # print(len(avalanche_sizes_global))\n",
    "    \n",
    "\n",
    "#     plt.scatter(bins_plot, avalanche_size_distribution_plot, label=f'threshold = {round(thresholds[i],2)}', s=3)\n",
    "#     plt.xlabel('Avalanche size (S)')\n",
    "#     plt.ylabel('Distribution P(S)')\n",
    "#     plt.xscale('log')\n",
    "#     plt.yscale('log')\n",
    "# plt.legend()\n",
    "# plt.show()\n",
    "\n",
    "# normalized version\n",
    "bin_size = 10\n",
    "for i in range(len(avalanche_sizes_list)):\n",
    "    # bins of avalanche sizes\n",
    "    bins = [x for x in np.arange(0, np.max(avalanche_sizes_list[i]), bin_size)]\n",
    "    all_bins = [x for x in np.arange(bin_size/2, np.max(avalanche_sizes_list[i]) - bin_size, bin_size)]\n",
    "    avalanche_size_distribution, _ = np.histogram(avalanche_sizes_list[i], bins)\n",
    "    \n",
    "    # normalize (frequency => probability)\n",
    "    total_avalanches = len(avalanche_sizes_list[i])\n",
    "    avalanche_distribution = []\n",
    "    for avalanche in avalanche_size_distribution:\n",
    "        avalanche_distribution.append(avalanche/total_avalanches)\n",
    "\n",
    "    # remove bins were value is zero\n",
    "    avalanche_size_distribution_plot = []\n",
    "    bins_plot = []\n",
    "    for j in range(len(avalanche_distribution)):\n",
    "        if avalanche_distribution[j] != 0:\n",
    "            avalanche_size_distribution_plot.append(avalanche_distribution[j])\n",
    "            bins_plot.append(all_bins[j])\n",
    "\n",
    "\n",
    "    # print(avalanche_size_distribution_plot)\n",
    "    # print(bins_plot)\n",
    "    # print(len(avalanche_sizes_global))\n",
    "    \n",
    "\n",
    "    plt.scatter(bins_plot, avalanche_size_distribution_plot, label=f'threshold = {thresholds[i]}', s=1)\n",
    "    plt.xlabel('Avalanche size (S)')\n",
    "    plt.ylabel('Distribution P(S)')\n",
    "    plt.xscale('log')\n",
    "    plt.yscale('log')\n",
    "plt.legend()\n",
    "plt.show()"
   ]
  },
  {
   "attachments": {},
   "cell_type": "markdown",
   "metadata": {},
   "source": [
    "Power law fit"
   ]
  },
  {
   "cell_type": "code",
   "execution_count": 272,
   "metadata": {},
   "outputs": [
    {
     "name": "stdout",
     "output_type": "stream",
     "text": [
      "302\n",
      "302\n",
      "70\n",
      "70\n"
     ]
    },
    {
     "data": {
      "image/png": "[encoded data removed]",
      "text/plain": [
       "<Figure size 640x480 with 1 Axes>"
      ]
     },
     "metadata": {},
     "output_type": "display_data"
    },
    {
     "name": "stdout",
     "output_type": "stream",
     "text": [
      "Exponent: -1.0325829090175775\n"
     ]
    }
   ],
   "source": [
    "import numpy as np\n",
    "import matplotlib.pyplot as plt\n",
    "\n",
    "bins = [x for x in np.arange(0,np.max(avalanche_sizes_list[i]),10)]\n",
    "all_bins = [x for x in np.arange(5,np.max(avalanche_sizes_list[i]) - 10,10)]\n",
    "avalanche_size_distribution, _ = np.histogram(avalanche_sizes_list[3], bins)\n",
    "\n",
    "# remove bins were value is zero\n",
    "avalanche_size_distribution_plot = []\n",
    "bins_plot = []\n",
    "for j in range(len(avalanche_size_distribution)):\n",
    "    if avalanche_size_distribution[j] != 0:\n",
    "        avalanche_size_distribution_plot.append(avalanche_size_distribution[j])\n",
    "        bins_plot.append(all_bins[j])\n",
    "\n",
    "\n",
    "print(len(bins_plot))\n",
    "print(len(avalanche_size_distribution_plot))\n",
    "\n",
    "\n",
    "threshold = 700\n",
    "\n",
    "bins_filtered = [value1 for value1 in bins_plot if value1 <= threshold]\n",
    "avalanche_sizes_global_filtered = [value2 for value1, value2 in zip(bins_filtered, avalanche_size_distribution_plot) if value1 <= threshold]\n",
    "\n",
    "print(len(bins_filtered))\n",
    "print(len(avalanche_sizes_global_filtered))\n",
    "\n",
    "\n",
    "# Take the logarithm of the filtered data\n",
    "log_bins = np.log10(bins_filtered)\n",
    "log_sizes = np.log10(avalanche_sizes_global_filtered)\n",
    "\n",
    "# Fit a straight line through linear regression\n",
    "coefficients = np.polyfit(log_bins, log_sizes, 1)\n",
    "exponent = coefficients[0]\n",
    "\n",
    "# Generate the fitted line\n",
    "fit_x = np.linspace(min(log_bins), max(log_bins), 100)\n",
    "fit_y = coefficients[0] * fit_x + coefficients[1]\n",
    "\n",
    "# Plot the log-log data and the fitted line\n",
    "plt.scatter(log_bins, log_sizes, label='Data')\n",
    "plt.plot(fit_x, fit_y, 'r-', label='Fitted Line')\n",
    "plt.xlabel('log(S)')\n",
    "plt.ylabel('log(P(S))')\n",
    "plt.title('Log-Log Plot with Fitted Line')\n",
    "plt.legend()\n",
    "plt.show()\n",
    "\n",
    "# Print the exponent of the fitted line\n",
    "print(\"Exponent:\", exponent)"
   ]
  },
  {
   "cell_type": "code",
   "execution_count": 262,
   "metadata": {},
   "outputs": [
    {
     "name": "stderr",
     "output_type": "stream",
     "text": [
      "Values less than or equal to 0 in data. Throwing out 0 or negative values\n"
     ]
    },
    {
     "name": "stdout",
     "output_type": "stream",
     "text": [
      "Calculating best minimal value for power law fit\n",
      "Estimated exponent (alpha): 3.1904519128912083\n",
      "Estimated lower bound (xmin): 452.0\n",
      "exponent error: 0.028607096200813503\n"
     ]
    }
   ],
   "source": [
    "\n",
    "filtered_list = [value for value in avalanche_sizes_list[3] if value <= 1400]\n",
    "results = powerlaw.Fit(filtered_list)\n",
    "\n",
    "# Print the estimated exponent and lower bound of the power law distribution\n",
    "print(\"Estimated exponent (alpha):\", results.power_law.alpha)\n",
    "print(\"Estimated lower bound (xmin):\", results.power_law.xmin)\n",
    "print(f\"exponent error: {results.power_law.sigma}\")"
   ]
  },
  {
   "cell_type": "code",
   "execution_count": 92,
   "metadata": {},
   "outputs": [
    {
     "data": {
      "image/png": "[encoded data removed]",
      "text/plain": [
       "<Figure size 640x480 with 1 Axes>"
      ]
     },
     "metadata": {},
     "output_type": "display_data"
    },
    {
     "data": {
      "image/png": "[encoded data removed]",
      "text/plain": [
       "<Figure size 640x480 with 1 Axes>"
      ]
     },
     "metadata": {},
     "output_type": "display_data"
    }
   ],
   "source": [
    "\n",
    "# Plot the evolution of the minimum fitness value\n",
    "plt.scatter(range(n_iterations - skip_iterations), min_fitness)\n",
    "plt.xlabel('Iteration')\n",
    "plt.ylabel('Minimum Fitness')\n",
    "plt.title('Bak-Sneppen Model')\n",
    "plt.show()\n",
    "\n",
    "bins = np.arange(0,1.01,0.01)\n",
    "bins_plot = np.arange(0.005,1.005,0.01)\n",
    "counts = np.zeros(len(bins)-1)\n",
    "\n",
    "# Plot the distribution of fitness during the whole simulation\n",
    "for fitness_slice in fitness_history:\n",
    "    counts_slice, _ = np.histogram(fitness_slice, bins)\n",
    "    counts = [x + y for x, y in zip(counts, counts_slice)]\n",
    "\n",
    "# Plot the normalized distribution using a histogram\n",
    "plt.scatter(bins_plot, counts)\n",
    "plt.xlabel('fitness')\n",
    "plt.ylabel('frequency')\n",
    "plt.grid(True)\n",
    "plt.show()\n"
   ]
  },
  {
   "cell_type": "code",
   "execution_count": null,
   "metadata": {},
   "outputs": [],
   "source": []
  },
  {
   "cell_type": "code",
   "execution_count": 65,
   "metadata": {},
   "outputs": [],
   "source": [
    "def bak_sneppen_2D(n_iterations, grid_size=50):\n",
    "    # Initialize the system\n",
    "\n",
    "    fitness = np.random.rand(grid_size, grid_size)\n",
    "    threshold = 0.5\n",
    "    evolution = np.zeros(n_iterations)\n",
    "\n",
    "    # Simulation loop\n",
    "    for i in range(n_iterations):\n",
    "        # Find the site with the minimum fitness value\n",
    "        min_index = np.argmin(fitness)\n",
    "\n",
    "        # Assign a new random fitness value to the selected site\n",
    "        fitness[min_index] = np.random.rand()\n",
    "\n",
    "        # Check neighbors and update their fitness if below the threshold\n",
    "        if min_index > 0 and fitness[min_index - 1] < threshold:\n",
    "            fitness[min_index - 1] = np.random.rand()\n",
    "        if min_index < n_species - 1 and fitness[min_index + 1] < threshold:\n",
    "            fitness[min_index + 1] = np.random.rand()\n",
    "\n",
    "        # Record the minimum fitness value at each iteration\n",
    "        evolution[i] = np.min(fitness)\n",
    "\n",
    "    return evolution\n",
    "\n",
    "# Run the Bak-Sneppen simulation\n",
    "n_iterations = 100000\n",
    "evolution = bak_sneppen_2D(n_iterations)\n",
    "\n",
    "# Plot the evolution of the minimum fitness value\n",
    "plt.plot(range(n_iterations), evolution)\n",
    "plt.xlabel('Iteration')\n",
    "plt.ylabel('Minimum Fitness')\n",
    "plt.title('Bak-Sneppen Model')\n",
    "plt.show()\n"
   ]
  },
  {
   "cell_type": "code",
   "execution_count": 20,
   "metadata": {},
   "outputs": [
    {
     "name": "stdout",
     "output_type": "stream",
     "text": [
      "[2, 4, 6]\n"
     ]
    }
   ],
   "source": [
    "l1 = np.array([1,2,3])\n",
    "l2 = np.array([1,2,3])\n",
    "\n",
    "l1 = [x + y for x, y in zip(l1, l2)]\n",
    "print(l1)"
   ]
  },
  {
   "attachments": {},
   "cell_type": "markdown",
   "metadata": {},
   "source": [
    "2D grid"
   ]
  },
  {
   "cell_type": "code",
   "execution_count": null,
   "metadata": {},
   "outputs": [],
   "source": [
    "fitness_grid = np.random.rand(grid_size, grid_size)\n",
    "import numpy as np\n",
    "import matplotlib.pyplot as plt\n",
    "import powerlaw\n",
    "\n",
    "def bak_sneppen_2D(n_iterations, skip_iterations, grid_size, local_segment=[0,0]):\n",
    "    # Initialize the system\n",
    "    threshold = 0.3\n",
    "    gap_function_value = 0\n",
    "    min_fitness = np.zeros(n_iterations - skip_iterations)\n",
    "    fitness_history = []\n",
    "    avalanche_sizes_local = []\n",
    "    avalanche_sizes_global = []\n",
    "    avalanche_activity_local = []\n",
    "    avalanche_activity_global = []\n",
    "    avalanche = False\n",
    "    avalanche_size_local = 0\n",
    "    avalanche_size_global = 0\n",
    "\n",
    "    for i in range(grid_size):\n",
    "        for j in range(grid_size):\n",
    "            # species with minimum fitness value\n",
    "            min_indeces = np.unravel_index(np.argmin(fitness_grid), fitness_grid.shape)\n",
    "\n",
    "            # assign a new random fitness value to the selected species\n",
    "            fitness_grid[min_indeces[0] + 1 % grid_size][min_indeces[1] % grid_size] = np.random.rand()\n",
    "\n",
    "            # check neighbors and update their fitness if below the threshold\n",
    "            fitness_grid[min_ind - 1] = np.random.rand()\n",
    "            if min_indeces[1] < n_species - 1:\n",
    "                fitness_grid[min_index + 1] = np.random.rand()\n",
    "            # periodic boundary\n",
    "            elif min_index == n_species -1:\n",
    "                fitness[0] = np.random.rand()\n",
    "\n",
    "            min_fitness_value = np.min(fitness)\n",
    "            # if min_fitness_value > gap_function_value:\n",
    "            #     gap_function_value = min_fitness_value\n",
    "            #     # print(f'{gap_function_value}, iteration: {i}')\n",
    "            #     threshold = gap_function_value - 0.01\n",
    "            \n",
    "            # skip iterations to start at the critical state\n",
    "            if i >= skip_iterations:\n",
    "                fitness_history.append(fitness)\n",
    "                \n",
    "\n",
    "                # save minimum fitness for each iteration\n",
    "                min_fitness[i - skip_iterations] = min_fitness_value\n",
    "\n",
    "                # if avalanche in progress\n",
    "                if min_fitness_value < threshold and avalanche == True:\n",
    "                    # seperate counter for local activity\n",
    "                    if min_index >= local_segment[0] and min_index < local_segment[1]:\n",
    "                        avalanche_size_local += 1\n",
    "                        avalanche_activity_local.append(i-skip_iterations)\n",
    "\n",
    "                    avalanche_size_global += 1\n",
    "                    avalanche_activity_global.append(i-skip_iterations)\n",
    "\n",
    "                # start of new avalanche\n",
    "                if min_fitness_value < threshold and avalanche == False:\n",
    "                    # print(f'avalanche start i: {i}')\n",
    "                    # avalanche_size += 1\n",
    "                    avalanche = True\n",
    "\n",
    "                # end of an avalanche\n",
    "                if min_fitness_value >= threshold and avalanche == True:\n",
    "                    # print(f'avalanche end i: {i}')\n",
    "\n",
    "                    avalanche_sizes_local.append(avalanche_size_local)\n",
    "                    avalanche_sizes_global.append(avalanche_size_global)\n",
    "                    avalanche_size_local = 0\n",
    "                    avalanche_size_global = 0\n",
    "                    avalanche = False\n",
    "\n",
    "\n",
    "    return min_fitness, fitness_history, avalanche_sizes_global, avalanche_sizes_local, avalanche_activity_global, avalanche_activity_local\n",
    "\n"
   ]
  },
  {
   "cell_type": "code",
   "execution_count": 308,
   "metadata": {},
   "outputs": [
    {
     "name": "stdout",
     "output_type": "stream",
     "text": [
      "[[0.98150591 0.52179437 0.95875137 0.51393419 0.493861  ]\n",
      " [0.33508272 0.78117733 0.3882361  0.31336728 0.8530202 ]\n",
      " [0.25893778 0.03383369 0.62464941 0.42750029 0.27585937]\n",
      " [0.07098921 0.18209967 0.13530432 0.49738393 0.6439877 ]\n",
      " [0.2091695  0.28133893 0.75248753 0.45477995 0.00647829]]\n",
      "(4, 4)\n",
      "0.00647829132266009\n"
     ]
    }
   ],
   "source": [
    "fitness_grid = np.random.rand(5, 5)\n",
    "\n",
    "min_index = np.unravel_index(np.argmin(fitness_grid), fitness_grid.shape)\n",
    "print(fitness_grid)\n",
    "print(min_index)\n",
    "print(fitness_grid[min_indeces[0]][min_indeces[1]])"
   ]
  },
  {
   "cell_type": "code",
   "execution_count": null,
   "metadata": {},
   "outputs": [],
   "source": []
  }
 ],
 "metadata": {
  "kernelspec": {
   "display_name": "base",
   "language": "python",
   "name": "python3"
  },
  "language_info": {
   "codemirror_mode": {
    "name": "ipython",
    "version": 3
   },
   "file_extension": ".py",
   "mimetype": "text/x-python",
   "name": "python",
   "nbconvert_exporter": "python",
   "pygments_lexer": "ipython3",
   "version": "3.9.7"
  },
  "orig_nbformat": 4
 },
 "nbformat": 4,
 "nbformat_minor": 2
}
