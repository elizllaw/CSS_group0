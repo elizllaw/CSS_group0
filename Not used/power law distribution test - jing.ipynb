{
 "cells": [
  {
   "cell_type": "code",
   "execution_count": 1,
   "id": "51610540",
   "metadata": {},
   "outputs": [
    {
     "data": {
      "image/png": "[encoded data removed]",
      "text/plain": [
       "<Figure size 432x288 with 1 Axes>"
      ]
     },
     "metadata": {
      "needs_background": "light"
     },
     "output_type": "display_data"
    },
    {
     "data": {
      "image/png": "[encoded data removed]",
      "text/plain": [
       "<Figure size 432x288 with 1 Axes>"
      ]
     },
     "metadata": {
      "needs_background": "light"
     },
     "output_type": "display_data"
    },
    {
     "name": "stdout",
     "output_type": "stream",
     "text": [
      "Calculating best minimal value for power law fit\n",
      "Estimated exponent (alpha): 1.0703348524475822\n",
      "Estimated lower bound (xmin): 1.0030918550353587\n",
      "KS test statistic: 1.0\n",
      "KS test p-value: 0.0\n"
     ]
    }
   ],
   "source": [
    "import powerlaw\n",
    "import numpy as np\n",
    "import matplotlib.pyplot as plt\n",
    "from scipy.stats import kstest\n",
    "\n",
    "## first trail generate synthetic data using powerlaw package, kstest not working!!!\n",
    "\n",
    "# Set the desired parameters for the power law distribution\n",
    "alpha = 1.07  # Exponent of the power law distribution\n",
    "xmin = 1.0   # Lower bound of the power law distribution\n",
    "\n",
    "# Generate synthetic data following a power law distribution\n",
    "data = powerlaw.Power_Law(xmin=xmin, parameters=[alpha]).generate_random(10000)\n",
    "\n",
    "# Plot the histogram of the generated data\n",
    "plt.hist(data, bins=50, density=True, alpha=0.7)\n",
    "plt.xlabel('Value')\n",
    "plt.ylabel('Frequency')\n",
    "plt.title('Power Law Distribution')\n",
    "plt.show()\n",
    "\n",
    "# Define the bins for counting values\n",
    "bins = np.logspace(np.log10(np.min(data)), np.log10(np.max(data)), num=20)\n",
    "\n",
    "# Count the number of values in each bin\n",
    "hist, edges = np.histogram(data, bins=bins)\n",
    "bin_centers = (edges[:-1] + edges[1:]) / 2.0\n",
    "\n",
    "# Calculate the probabilities\n",
    "probabilities = hist / len(data)\n",
    "\n",
    "# Plot the log-log graph of data vs. probabilities\n",
    "plt.loglog(bin_centers, probabilities, marker='o', linestyle='', markersize=3)\n",
    "\n",
    "# Set the labels and title of the plot\n",
    "plt.xlabel('Data (log scale)')\n",
    "plt.ylabel('Probability (log scale)')\n",
    "plt.title('Log-Log Plot of Data vs. Probability')\n",
    "\n",
    "# Display the plot\n",
    "plt.show()\n",
    "\n",
    "\n",
    "# Perform the power law fit\n",
    "results = powerlaw.Fit(data)\n",
    "\n",
    "# Print the estimated exponent and lower bound of the power law distribution\n",
    "print(\"Estimated exponent (alpha):\", results.power_law.alpha)\n",
    "print(\"Estimated lower bound (xmin):\", results.power_law.xmin)\n",
    "\n",
    "# Perform the Kolmogorov-Smirnov (KS) test\n",
    "ks_statistic, p_value = kstest(data, 'powerlaw', args=(results.power_law.alpha,))\n",
    "print(\"KS test statistic:\", ks_statistic)\n",
    "print(\"KS test p-value:\", p_value)\n"
   ]
  },
  {
   "cell_type": "code",
   "execution_count": 2,
   "id": "f0095da3",
   "metadata": {},
   "outputs": [
    {
     "name": "stdout",
     "output_type": "stream",
     "text": [
      "(1.076078198490715, 0.000389934413625757, 1.0024826591621978)\n",
      "p_value: 0.46351652214081296\n",
      "The data follows a power-law distribution.\n"
     ]
    }
   ],
   "source": [
    "import numpy as np\n",
    "import scipy.stats as stats\n",
    "from scipy.stats import powerlaw\n",
    "\n",
    "\n",
    "## second trail generate synthetic data using scipy.stats.powerlaw package, kstest working!!!\n",
    "\n",
    "# Set the desired parameters for the power-law distribution\n",
    "alpha = 1.07  # Exponent of the power law distribution\n",
    "xmin = 1.0   # Lower bound of the power law distribution\n",
    "\n",
    "# Generate synthetic data following a power-law distribution\n",
    "data = powerlaw.rvs(alpha, loc=0, scale=xmin, size=10000)\n",
    "fit_params = stats.powerlaw.fit(data)\n",
    "#print(data)\n",
    "#synthetic_data = stats.powerlaw.rvs(*fit_params, size=len(data))\n",
    "ks_statistic, p_value = stats.kstest(data, 'powerlaw', args=fit_params)\n",
    "print(fit_params)\n",
    "alpha = 0.05  # Significance level\n",
    "print(\"p_value:\", p_value)\n",
    "if p_value > alpha:\n",
    "    print(\"The data follows a power-law distribution.\")\n",
    "else:\n",
    "    print(\"The data does not follow a power-law distribution.\")\n"
   ]
  },
  {
   "cell_type": "code",
   "execution_count": null,
   "id": "bfe69c64",
   "metadata": {},
   "outputs": [],
   "source": []
  },
  {
   "cell_type": "code",
   "execution_count": null,
   "id": "bf15543c",
   "metadata": {},
   "outputs": [],
   "source": []
  }
 ],
 "metadata": {
  "kernelspec": {
   "display_name": "Python 3 (ipykernel)",
   "language": "python",
   "name": "python3"
  },
  "language_info": {
   "codemirror_mode": {
    "name": "ipython",
    "version": 3
   },
   "file_extension": ".py",
   "mimetype": "text/x-python",
   "name": "python",
   "nbconvert_exporter": "python",
   "pygments_lexer": "ipython3",
   "version": "3.9.12"
  }
 },
 "nbformat": 4,
 "nbformat_minor": 5
}
