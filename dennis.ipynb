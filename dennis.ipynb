{
 "cells": [
  {
   "cell_type": "code",
   "execution_count": 1,
   "metadata": {},
   "outputs": [
    {
     "name": "stderr",
     "output_type": "stream",
     "text": [
      "MovieWriter imagemagick unavailable; using Pillow instead.\n"
     ]
    },
    {
     "data": {
      "image/png": "[encoded data removed]",
      "text/plain": [
       "<Figure size 640x480 with 1 Axes>"
      ]
     },
     "metadata": {},
     "output_type": "display_data"
    }
   ],
   "source": [
    "import numpy as np\n",
    "import random\n",
    "import matplotlib.pyplot as plt\n",
    "from matplotlib.animation import FuncAnimation\n",
    "import time\n",
    "np.random.seed(seed=int(time.time()))\n",
    "random.seed(time.time())\n",
    "# Size of the grid\n",
    "size = 60\n",
    "\n",
    "# Number of initialized cells\n",
    "m = 1200\n",
    "\n",
    "# Initialize the grid with -1 (indicating empty cells)\n",
    "grid = -2 * np.ones((size, size))\n",
    "marks_current = np.zeros((size, size))\n",
    "marks_previous = np.zeros((size, size))\n",
    "\n",
    "# Randomly choose m cells to initialize with fitness values\n",
    "init_cells = random.sample(list(np.ndindex((size, size))), m)\n",
    "for cell in init_cells:\n",
    "    grid[cell] = np.random.rand()\n",
    "\n",
    "fig, ax = plt.subplots()\n",
    "\n",
    "def update(num):\n",
    "    ax.clear()\n",
    "    ax.imshow(grid, cmap='Greys',  interpolation='nearest')\n",
    "    ax.set_title(f\"Iteration: {num}\")\n",
    "\n",
    "    global marks_previous\n",
    "    global marks_current\n",
    "\n",
    "    # Before proceeding, copy the current marks to the \"previous\" marks array\n",
    "    marks_previous = np.copy(marks_current)\n",
    "\n",
    "    # Reset the current marks array to be all zeros at the start of each iteration\n",
    "    marks_current = np.zeros((size, size))\n",
    "\n",
    "    # Find the index of the particle with minimum fitness\n",
    "    valid_indices = np.argwhere(grid >= 0)\n",
    "    min_index = valid_indices[np.argmin(grid[valid_indices[:, 0], valid_indices[:, 1]])]\n",
    "    \n",
    "    # Mutate the particle and its neighbors\n",
    "    for dx, dy in [(-1, 0), (1, 0), (0, -1), (0, 1), (0,0)]:\n",
    "        nx, ny = min_index[0] + dx, min_index[1] + dy\n",
    "        nx = nx % size\n",
    "        ny = ny % size\n",
    "\n",
    "        if(grid[nx][ny] >= 0):\n",
    "            grid[nx, ny] = np.random.rand()\n",
    "    \n",
    "    # For each cell\n",
    "    for index, value in np.ndenumerate(grid):\n",
    "        if(grid[index[0]][index[1]] == -2): continue\n",
    "\n",
    "        # Check Moore neighborhood for particles and marks\n",
    "        neighborhood = []\n",
    "        for dx, dy in [(-1, 0), (1, 0), (0, -1), (0, 1), (-1, -1), (-1, 1), (1, -1), (1, 1)]:\n",
    "            nx, ny = index[0] + dx, index[1] + dy\n",
    "            nx = nx % size\n",
    "            ny = ny % size\n",
    "            neighborhood.append((nx, ny))\n",
    "\n",
    "        free_cells = [cell for cell in neighborhood if grid[cell] == -2]\n",
    "        \n",
    "        # If no free adjacent cells\n",
    "        if not free_cells:\n",
    "            continue\n",
    "        else:\n",
    "            # If there are marks in the neighborhood with fitness higher than its own,\n",
    "            # move to the site of the nearest mark which is better than its own fitness\n",
    "            better_marked_neighbors = [cell for cell in free_cells if marks_current[cell] > grid[index]]\n",
    "\n",
    "            if better_marked_neighbors:\n",
    "                target = min(better_marked_neighbors, key=lambda x: marks_current[x])\n",
    "                # Leave a mark (fitness value) in the previous site\n",
    "                marks_current[index] = grid[index]\n",
    "                # Take the fitness value of the new site and erase the mark there\n",
    "                grid[index], grid[target] = grid[target], grid[index]\n",
    "                marks_current[target] = -2\n",
    "                marks_previous[target] = -2\n",
    "            else:\n",
    "                target = random.choice(free_cells)\n",
    "                # Leave a mark (fitness value) in the previous site\n",
    "                marks_current[index] = grid[index]\n",
    "                # Take the fitness value of the new site and erase the mark there\n",
    "                grid[index], grid[target] = grid[target], grid[index]\n",
    "                marks_current[target] = -2\n",
    "                marks_previous[target] = -2\n",
    "\n",
    "ani = FuncAnimation(fig, update, frames=range(750), repeat=False)\n",
    "\n",
    "# Save the animation as a GIF\n",
    "ani.save('2DMigration.gif', writer='imagemagick')\n",
    "\n",
    "\n",
    "plt.show()\n"
   ]
  },
  {
   "cell_type": "code",
   "execution_count": null,
   "metadata": {},
   "outputs": [],
   "source": []
  }
 ],
 "metadata": {
  "kernelspec": {
   "display_name": "Python 3.11.0 64-bit",
   "language": "python",
   "name": "python3"
  },
  "language_info": {
   "codemirror_mode": {
    "name": "ipython",
    "version": 3
   },
   "file_extension": ".py",
   "mimetype": "text/x-python",
   "name": "python",
   "nbconvert_exporter": "python",
   "pygments_lexer": "ipython3",
   "version": "3.11.0"
  },
  "orig_nbformat": 4,
  "vscode": {
   "interpreter": {
    "hash": "1a1af0ee75eeea9e2e1ee996c87e7a2b11a0bebd85af04bb136d915cefc0abce"
   }
  }
 },
 "nbformat": 4,
 "nbformat_minor": 2
}
