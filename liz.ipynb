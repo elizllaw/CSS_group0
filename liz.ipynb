{
 "cells": [
  {
   "attachments": {},
   "cell_type": "markdown",
   "metadata": {},
   "source": [
    "Imports"
   ]
  },
  {
   "cell_type": "code",
   "execution_count": 64,
   "metadata": {},
   "outputs": [],
   "source": [
    "import numpy as np\n",
    "import matplotlib.pyplot as plt\n",
    "from matplotlib.animation import FuncAnimation"
   ]
  },
  {
   "attachments": {},
   "cell_type": "markdown",
   "metadata": {},
   "source": [
    "Migration"
   ]
  },
  {
   "attachments": {},
   "cell_type": "markdown",
   "metadata": {},
   "source": [
    "Defining"
   ]
  },
  {
   "cell_type": "code",
   "execution_count": 65,
   "metadata": {},
   "outputs": [],
   "source": [
    "# Initialize a grid of species with random fitness values\n",
    "def initialize_grid(grid_size):\n",
    "    # grid = np.random.rand(grid_size, grid_size)\n",
    "    grid = np.empty((grid_size, grid_size), dtype=object)\n",
    "    return grid\n",
    "\n",
    "# Find the Moore neighbors of a particle at position (i, j) in the grid\n",
    "def find_neighbours(i, j, grid_size):\n",
    "    neighbours = []\n",
    "    for dx in [-1, 0, 1]:\n",
    "        for dy in [-1, 0, 1]:\n",
    "            if dx == 0 and dy == 0:\n",
    "                continue\n",
    "            new_i = (i + dx) % grid_size\n",
    "            new_j = (j + dy) % grid_size\n",
    "            neighbours.append((new_i, new_j))\n",
    "    return neighbours\n",
    "\n",
    "# Perform species migration based on the fitness level\n",
    "def migrate_species(grid):\n",
    "    grid_copy = grid.copy()\n",
    "    grid_size = grid.shape[0]\n",
    "    for i in range(grid_size):\n",
    "        for j in range(grid_size):\n",
    "            particle = grid_copy[i, j]\n",
    "            if particle is None:\n",
    "                continue\n",
    "            current_fitness = particle['fitness']\n",
    "            neighbours = find_neighbours(i, j, grid_size)\n",
    "            best_fitness = current_fitness\n",
    "            best_neighbour = None\n",
    "            for neighbour in neighbours:\n",
    "                neighbour_i, neighbour_j = neighbour\n",
    "                neighbour_particle = grid_copy[neighbour_i, neighbour_j]\n",
    "                if neighbour_particle is None:\n",
    "                    continue\n",
    "                neighbour_fitness = neighbour_particle['fitness']\n",
    "                if neighbour_fitness > best_fitness:\n",
    "                    best_fitness = neighbour_fitness\n",
    "                    best_neighbour = neighbour\n",
    "            if best_neighbour is not None:\n",
    "                neighbour_i, neighbour_j = best_neighbour\n",
    "                grid[neighbour_i, neighbour_j] = grid_copy[i, j]\n",
    "                grid_copy[i, j] = None\n",
    "    return grid\n"
   ]
  },
  {
   "attachments": {},
   "cell_type": "markdown",
   "metadata": {},
   "source": [
    "Running Mirgration"
   ]
  },
  {
   "cell_type": "code",
   "execution_count": 66,
   "metadata": {},
   "outputs": [
    {
     "data": {
      "image/png": "[encoded data removed]",
      "text/plain": [
       "<Figure size 640x480 with 1 Axes>"
      ]
     },
     "metadata": {},
     "output_type": "display_data"
    }
   ],
   "source": [
    "grid_size_x = 60\n",
    "grid_size_y = 60\n",
    "num_particles = 1200\n",
    "num_iterations = 100\n",
    "\n",
    "# initializing grid\n",
    "grid = np.full((grid_size_x, grid_size_y), None, dtype=object)\n",
    "for _ in range(num_particles):\n",
    "    i = np.random.randint(grid_size_x)\n",
    "    j = np.random.randint(grid_size_y)\n",
    "    fitness = np.random.rand()\n",
    "    particle = {'fitness': fitness}\n",
    "    grid[i, j] = particle\n",
    "\n",
    "# figure & axis for plot\n",
    "fig, ax = plt.subplots()\n",
    "\n",
    "fitness_grid = np.zeros((grid_size_x, grid_size_y))\n",
    "\n",
    "# plot iterations\n",
    "def update_plot(iteration):\n",
    "    global grid\n",
    "    grid = migrate_species(grid)\n",
    "\n",
    "    for i in range(grid_size_x):\n",
    "        for j in range(grid_size_y):\n",
    "            if grid[i, j] is not None:\n",
    "                fitness_grid[i, j] = grid[i, j]['fitness']\n",
    "\n",
    "    # Clear the axis before each plot\n",
    "    ax.clear()\n",
    "\n",
    "    # Plot the grid state\n",
    "    im = ax.imshow(fitness_grid, cmap='Greys', vmin=0, vmax=1, origin='lower')\n",
    "\n",
    "    ax.set_title(f\"Iteration: {iteration}\")\n",
    "    ax.set_xlabel(\"X\")\n",
    "    ax.set_ylabel(\"Y\")\n",
    "\n",
    "\n",
    "def animate(frame):\n",
    "    current_iteration = frame % num_iterations\n",
    "    update_plot(current_iteration)\n",
    "    return ax\n",
    "\n",
    "animation = FuncAnimation(fig, animate, frames=num_iterations, interval=1000, repeat=False)\n",
    "animation.save(\"mirgration.gif\",writer='pillow', fps=10)\n",
    "# plt.colorbar(label=\"Fitness\")\n",
    "plt.show()\n"
   ]
  },
  {
   "cell_type": "code",
   "execution_count": null,
   "metadata": {},
   "outputs": [],
   "source": []
  }
 ],
 "metadata": {
  "kernelspec": {
   "display_name": "Python 3",
   "language": "python",
   "name": "python3"
  },
  "language_info": {
   "codemirror_mode": {
    "name": "ipython",
    "version": 3
   },
   "file_extension": ".py",
   "mimetype": "text/x-python",
   "name": "python",
   "nbconvert_exporter": "python",
   "pygments_lexer": "ipython3",
   "version": "3.10.11"
  },
  "orig_nbformat": 4
 },
 "nbformat": 4,
 "nbformat_minor": 2
}
